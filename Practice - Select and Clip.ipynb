{
 "cells": [
  {
   "cell_type": "code",
   "execution_count": 1,
   "metadata": {},
   "outputs": [],
   "source": [
    "import os\n",
    "import arcpy"
   ]
  },
  {
   "cell_type": "code",
   "execution_count": 2,
   "metadata": {},
   "outputs": [
    {
     "data": {
      "text/plain": [
       "'S:\\\\GEOG_6308.80_Programming_Geospatial_201903\\\\Greenberg,Julia-JGreenberg\\\\homework-submission\\\\ArcPy practice'"
      ]
     },
     "execution_count": 2,
     "metadata": {},
     "output_type": "execute_result"
    }
   ],
   "source": [
    "os.getcwd()"
   ]
  },
  {
   "cell_type": "code",
   "execution_count": 3,
   "metadata": {},
   "outputs": [],
   "source": [
    "arcpy.env.workspace = os.getcwd()"
   ]
  },
  {
   "cell_type": "code",
   "execution_count": 4,
   "metadata": {},
   "outputs": [],
   "source": [
    "arcpy.env.overwriteOutput = True"
   ]
  },
  {
   "cell_type": "markdown",
   "metadata": {},
   "source": [
    "SELECT:"
   ]
  },
  {
   "cell_type": "code",
   "execution_count": 5,
   "metadata": {},
   "outputs": [],
   "source": [
    "def state_select(state):\n",
    "    input = \"States/tl_2018_us_state.shp\"\n",
    "    output = \"./output/select_%s.shp\" % state\n",
    "    select = ' \"NAME\" = \\'%s\\'' % state\n",
    "    arcpy.Select_analysis(\n",
    "        input,\n",
    "        output,\n",
    "        select\n",
    "    )\n",
    "    print output"
   ]
  },
  {
   "cell_type": "markdown",
   "metadata": {},
   "source": [
    "CLIP:"
   ]
  },
  {
   "cell_type": "code",
   "execution_count": 6,
   "metadata": {},
   "outputs": [],
   "source": [
    "def state_districts_116(state):\n",
    "    arcpy.Clip_analysis(\n",
    "        \"./Congressional districts/tl_2018_us_cd116.shp\",\n",
    "        \"./output/select_%s.shp\" % state,\n",
    "        \"./output/cong_%s.shp\" % state\n",
    "    )"
   ]
  },
  {
   "cell_type": "code",
   "execution_count": 7,
   "metadata": {},
   "outputs": [],
   "source": [
    "states = ['Hawaii','Georgia','Colorado','Idaho']"
   ]
  },
  {
   "cell_type": "code",
   "execution_count": 8,
   "metadata": {},
   "outputs": [
    {
     "name": "stdout",
     "output_type": "stream",
     "text": [
      "./output/select_Hawaii.shp\n",
      "./output/select_Georgia.shp\n",
      "./output/select_Colorado.shp\n",
      "./output/select_Idaho.shp\n"
     ]
    }
   ],
   "source": [
    "for state in states:\n",
    "    state_select(state)\n",
    "    state_districts_116(state)"
   ]
  }
 ],
 "metadata": {
  "kernelspec": {
   "display_name": "Python 2",
   "language": "python",
   "name": "python2"
  },
  "language_info": {
   "codemirror_mode": {
    "name": "ipython",
    "version": 2
   },
   "file_extension": ".py",
   "mimetype": "text/x-python",
   "name": "python",
   "nbconvert_exporter": "python",
   "pygments_lexer": "ipython2",
   "version": "2.7.16"
  }
 },
 "nbformat": 4,
 "nbformat_minor": 2
}
